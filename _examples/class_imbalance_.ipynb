{
 "cells": [
  {
   "cell_type": "code",
   "execution_count": 9,
   "metadata": {
    "collapsed": true,
    "pycharm": {
     "is_executing": false
    }
   },
   "outputs": [],
   "source": [
    "import matplotlib.pyplot as plt\n",
    "import numpy as np\n",
    "import pandas as pd\n",
    "from sklearn.linear_model import LogisticRegression\n",
    "from sklearn.metrics import accuracy_score, roc_auc_score"
   ]
  },
  {
   "cell_type": "code",
   "execution_count": 10,
   "outputs": [],
   "source": [
    "# Number of observations\n",
    "n_obs = 1000000\n",
    "\n",
    "# Imbalance \n",
    "pct_target = 0.5\n",
    "\n",
    "# Create imbalanced outcome\n",
    "outcomes = np.random.rand(n_obs) < pct_target"
   ],
   "metadata": {
    "collapsed": false,
    "pycharm": {
     "name": "#%%\n",
     "is_executing": false
    }
   }
  },
  {
   "cell_type": "code",
   "execution_count": 11,
   "outputs": [],
   "source": [
    "# Function to create a linear feature that is correlated with the outcome \n",
    "def create_feature(outcomes, scale=0.1, size=10000000):\n",
    "    # Create two histograms that contain possible values for this new feature\n",
    "    values_0 = np.random.normal(loc=0., scale=scale, size=size)\n",
    "    values_1 = np.random.normal(loc=1., scale=scale, size=size)\n",
    "    \n",
    "    # Sample from the histograms because on the known outcome\n",
    "    result = np.zeros(outcomes.shape)\n",
    "    condition = outcomes == 0\n",
    "    result[condition] = np.random.choice(a=values_0, size=np.sum(condition))\n",
    "    condition = outcomes == 1\n",
    "    result[condition] = np.random.choice(a=values_1, size=np.sum(condition))\n",
    "    \n",
    "    # Return\n",
    "    return result\n",
    "    \n",
    "# Generate 3 features\n",
    "feature0 = create_feature(outcomes, scale=1.)\n",
    "feature1 = create_feature(outcomes, scale=2.)\n",
    "feature2 = create_feature(outcomes, scale=3.)"
   ],
   "metadata": {
    "collapsed": false,
    "pycharm": {
     "name": "#%% \n",
     "is_executing": false
    }
   }
  },
  {
   "cell_type": "code",
   "execution_count": 12,
   "outputs": [],
   "source": [
    "# Create cohesive dataset\n",
    "df = pd.DataFrame({\n",
    "    'feature0': feature0,\n",
    "    'feature1': feature1,\n",
    "    'feature2': feature2,\n",
    "    'outcome': outcomes\n",
    "})"
   ],
   "metadata": {
    "collapsed": false,
    "pycharm": {
     "name": "#%%\n",
     "is_executing": false
    }
   }
  },
  {
   "cell_type": "code",
   "execution_count": 13,
   "outputs": [
    {
     "name": "stdout",
     "text": [
      "Univariate slope:\n",
      "feature0 = 0.19983456016193127\n",
      "feature1 = 0.05869204421944213\n",
      "feature2 = 0.02716024122766658\n",
      "\n",
      "Correlation with outcome:\n",
      "feature0 = 0.44708976242148096\n",
      "feature1 = 0.2421122459643796\n",
      "feature2 = 0.165014161026893\n"
     ],
     "output_type": "stream"
    }
   ],
   "source": [
    "columns = [column for column in df.columns if column != 'outcome']\n",
    "\n",
    "# Look at feature performance\n",
    "print('Univariate slope:')\n",
    "for column in columns:\n",
    "    print(column, '=', np.polyfit(df[column], df['outcome'], 1)[0])\n",
    "\n",
    "print('\\nCorrelation with outcome:')\n",
    "for column in columns:\n",
    "    print(column, '=', np.corrcoef(df[column], df['outcome'])[0, 1])\n"
   ],
   "metadata": {
    "collapsed": false,
    "pycharm": {
     "name": "#%%\n",
     "is_executing": false
    }
   }
  },
  {
   "cell_type": "code",
   "execution_count": 14,
   "outputs": [],
   "source": [
    "# Build models\n",
    "x = df[['feature0', 'feature1', 'feature2']]\n",
    "y = df['outcome']\n",
    "\n",
    "logit1 = LogisticRegression()\n",
    "logit2 = LogisticRegression(class_weight='balanced')\n",
    "\n",
    "logit1.fit(x, y)\n",
    "logit2.fit(x, y)\n",
    "\n",
    "y_pred1 = logit1.predict_proba(x)[:, 1]\n",
    "y_pred2 = logit2.predict_proba(x)[:, 1]"
   ],
   "metadata": {
    "collapsed": false,
    "pycharm": {
     "name": "#%%\n",
     "is_executing": false
    }
   }
  },
  {
   "cell_type": "code",
   "execution_count": 15,
   "outputs": [
    {
     "name": "stdout",
     "text": [
      "Imbalanced AUC= 0.7954662601687744\n",
      "Implicitly Balanced AUC= 0.7954662605767744\n"
     ],
     "output_type": "stream"
    },
    {
     "data": {
      "text/plain": "<Figure size 432x288 with 1 Axes>",
      "image/png": "[encoded data removed]"
     },
     "metadata": {
      "needs_background": "light"
     },
     "output_type": "display_data"
    }
   ],
   "source": [
    "# AUC\n",
    "print('Imbalanced AUC=', roc_auc_score(y, y_pred1))\n",
    "print('Implicitly Balanced AUC=', roc_auc_score(y, y_pred2))\n",
    "\n",
    "# Compute accuracy vs threshold\n",
    "thresholds = np.arange(0, 1.1, 0.05)\n",
    "accuracies1 = []\n",
    "accuracies2 = []\n",
    "for threshold in thresholds:\n",
    "    accuracies1.append(accuracy_score(y, y_pred1 >= threshold))\n",
    "    accuracies2.append(accuracy_score(y, y_pred2 >= threshold))\n",
    "    \n",
    "# Plot\n",
    "plt.figure()\n",
    "plt.plot(thresholds, accuracies1, label='Imbalanced')\n",
    "plt.plot(thresholds, accuracies2, label='Implicitly Balanced')\n",
    "plt.xlabel('cutoff')\n",
    "plt.ylabel('accuracy')\n",
    "plt.legend()\n",
    "plt.show()"
   ],
   "metadata": {
    "collapsed": false,
    "pycharm": {
     "name": "#%%\n",
     "is_executing": false
    }
   }
  },
  {
   "cell_type": "code",
   "execution_count": 16,
   "outputs": [
    {
     "name": "stdout",
     "text": [
      "             coef1     coef2\n",
      "feature                     \n",
      "feature0  0.999074  0.999075\n",
      "feature1  0.249887  0.249887\n",
      "feature2  0.112182  0.112182\n",
      "intecept -0.682573 -0.681554\n"
     ],
     "output_type": "stream"
    }
   ],
   "source": [
    "# Finally look at the coefficients\n",
    "result = pd.DataFrame({\n",
    "    'feature': x.columns,\n",
    "    'coef1': logit1.coef_[0],\n",
    "    'coef2': logit2.coef_[0]\n",
    "})\n",
    "\n",
    "result.loc[len(result)] = [\n",
    "    'intecept', \n",
    "    logit1.intercept_[0],\n",
    "    logit2.intercept_[0]\n",
    "]\n",
    "\n",
    "print(result.set_index('feature'))\n"
   ],
   "metadata": {
    "collapsed": false,
    "pycharm": {
     "name": "#%%\n",
     "is_executing": false
    }
   }
  }
 ],
 "metadata": {
  "kernelspec": {
   "display_name": "Python 3",
   "language": "python",
   "name": "python3"
  },
  "language_info": {
   "codemirror_mode": {
    "name": "ipython",
    "version": 2
   },
   "file_extension": ".py",
   "mimetype": "text/x-python",
   "name": "python",
   "nbconvert_exporter": "python",
   "pygments_lexer": "ipython2",
   "version": "2.7.6"
  },
  "pycharm": {
   "stem_cell": {
    "cell_type": "raw",
    "source": [],
    "metadata": {
     "collapsed": false
    }
   }
  }
 },
 "nbformat": 4,
 "nbformat_minor": 0
}