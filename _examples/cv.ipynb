{
 "cells": [
  {
   "cell_type": "code",
   "execution_count": 1,
   "metadata": {
    "collapsed": true,
    "pycharm": {
     "is_executing": false
    }
   },
   "outputs": [],
   "source": [
    "import numpy as np\n",
    "import pandas as pd\n",
    "from sklearn.linear_model import LogisticRegression\n",
    "from sklearn.model_selection import StratifiedKFold\n",
    "from sklearn.metrics import accuracy_score, roc_auc_score"
   ]
  },
  {
   "cell_type": "markdown",
   "source": [
    "Design dataset"
   ],
   "metadata": {
    "collapsed": false,
    "pycharm": {
     "name": "#%% md\n"
    }
   }
  },
  {
   "cell_type": "code",
   "execution_count": 2,
   "outputs": [],
   "source": [
    "num_samples = 50\n",
    "num_features = 1000\n",
    "\n",
    "x = np.random.rand(num_samples, num_features)\n",
    "y = np.round(np.random.rand(num_samples))"
   ],
   "metadata": {
    "collapsed": false,
    "pycharm": {
     "name": "#%%\n",
     "is_executing": false
    }
   }
  },
  {
   "cell_type": "markdown",
   "source": [
    "Build \"Wrong\" CV Model"
   ],
   "metadata": {
    "collapsed": false,
    "pycharm": {
     "name": "#%% md\n"
    }
   }
  },
  {
   "cell_type": "code",
   "execution_count": 3,
   "outputs": [
    {
     "name": "stdout",
     "text": [
      "0.4833333333333333\n"
     ],
     "output_type": "stream"
    }
   ],
   "source": [
    "# Select top predictors\n",
    "df = pd.DataFrame(columns=['column', 'corr', 'corr_abs'])\n",
    "for i in range(num_features):\n",
    "    corr = np.corrcoef(x[:, i], y)[0, 1]\n",
    "    df.loc[len(df)] = [i, corr, np.abs(corr)]\n",
    "top_i = df.sort_values('corr_abs', ascending=False)['column'].astype(int).values[:20]\n",
    "xx = x[:, top_i]\n",
    "\n",
    "# Build model\n",
    "scores = []\n",
    "for train_index, test_index in StratifiedKFold(n_splits=10).split(xx, y):\n",
    "    x_train, x_test = x[train_index, :], x[test_index, :]\n",
    "    y_train, y_test = y[train_index], y[test_index]\n",
    "    lr = LogisticRegression()\n",
    "    lr.fit(x_train, y_train)\n",
    "    scores.append(roc_auc_score(y_test, lr.predict_proba(x_test)[:, 1]))\n",
    "print(np.mean(scores))"
   ],
   "metadata": {
    "collapsed": false,
    "pycharm": {
     "name": "#%%\n",
     "is_executing": false
    }
   }
  },
  {
   "cell_type": "markdown",
   "source": [
    "Build \"Right\" CV Model"
   ],
   "metadata": {
    "collapsed": false,
    "pycharm": {
     "name": "#%% md\n"
    }
   }
  },
  {
   "cell_type": "code",
   "execution_count": 4,
   "outputs": [
    {
     "name": "stdout",
     "text": [
      "0.6\n"
     ],
     "output_type": "stream"
    }
   ],
   "source": [
    "# Build model\n",
    "scores = []\n",
    "for train_index, test_index in StratifiedKFold(n_splits=10).split(x, y):\n",
    "    # Select training and test sets\n",
    "    x_train, x_test = x[train_index, :], x[test_index, :]\n",
    "    y_train, y_test = y[train_index], y[test_index]\n",
    "    \n",
    "    # Select top predictors\n",
    "    df = pd.DataFrame(columns=['column', 'corr', 'corr_abs'])\n",
    "    for i in range(num_features):\n",
    "        corr = np.corrcoef(x_train[:, i], y_train)[0, 1]\n",
    "        df.loc[len(df)] = [i, corr, np.abs(corr)]\n",
    "    top_i = df.sort_values('corr_abs', ascending=False)['column'].astype(int).values[:20]\n",
    "    xx_train = x_train[:, top_i]\n",
    "    xx_test = x_test[:, top_i]\n",
    "    \n",
    "    # Build model\n",
    "    lr = LogisticRegression()\n",
    "    lr.fit(xx_train, y_train)\n",
    "    scores.append(roc_auc_score(y_test, lr.predict_proba(xx_test)[:, 1]))\n",
    "print(np.mean(scores))\n",
    "\n",
    "    \n",
    "\n",
    "\n"
   ],
   "metadata": {
    "collapsed": false,
    "pycharm": {
     "name": "#%%\n",
     "is_executing": false
    }
   }
  }
 ],
 "metadata": {
  "kernelspec": {
   "display_name": "Python 3",
   "language": "python",
   "name": "python3"
  },
  "language_info": {
   "codemirror_mode": {
    "name": "ipython",
    "version": 2
   },
   "file_extension": ".py",
   "mimetype": "text/x-python",
   "name": "python",
   "nbconvert_exporter": "python",
   "pygments_lexer": "ipython2",
   "version": "2.7.6"
  },
  "pycharm": {
   "stem_cell": {
    "cell_type": "raw",
    "source": [],
    "metadata": {
     "collapsed": false
    }
   }
  }
 },
 "nbformat": 4,
 "nbformat_minor": 0
}